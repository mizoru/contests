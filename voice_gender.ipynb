{
 "cells": [
  {
   "cell_type": "code",
   "execution_count": 1,
   "id": "92f9d5ce-482a-4447-873a-963c11031436",
   "metadata": {},
   "outputs": [],
   "source": []
  },
  {
   "cell_type": "code",
   "execution_count": 10,
   "id": "77968977-6008-4db9-a827-4786faa1b817",
   "metadata": {
    "tags": []
   },
   "outputs": [],
   "source": [
    "import zipfile\n",
    "zipfile.ZipFile('train.zip').extractall()"
   ]
  },
  {
   "cell_type": "code",
   "execution_count": 1,
   "id": "e6df5265-6be6-491b-9c1b-428ae3387104",
   "metadata": {},
   "outputs": [],
   "source": [
    "from fastaudio.all import *\n",
    "from fastai.vision.all import *"
   ]
  },
  {
   "cell_type": "code",
   "execution_count": 2,
   "id": "002a27bf-447f-435b-ad47-ff4d5c38f345",
   "metadata": {
    "tags": []
   },
   "outputs": [],
   "source": [
    "labels = pd.read_csv('train/targets.tsv', sep='\\t', names=['path', 'gender'])"
   ]
  },
  {
   "cell_type": "code",
   "execution_count": 93,
   "id": "7239e2bb-09a9-4c2b-90e7-8379821552c3",
   "metadata": {},
   "outputs": [],
   "source": [
    "labels.path = 'train/'+labels.path"
   ]
  },
  {
   "cell_type": "code",
   "execution_count": 4,
   "id": "9a9508cf-e2f1-4613-b0f7-c745ae55531d",
   "metadata": {},
   "outputs": [],
   "source": [
    "aud2spec = AudioToSpec.from_cfg(AudioConfig.Voice(f_min=0))"
   ]
  },
  {
   "cell_type": "code",
   "execution_count": 5,
   "id": "29f57757-21a6-458e-8ab7-7c3c8e219e76",
   "metadata": {},
   "outputs": [],
   "source": [
    "item_tfms = [RemoveSilence(), ResizeSignal(2000), aud2spec]"
   ]
  },
  {
   "cell_type": "code",
   "execution_count": 95,
   "id": "b4bb6706-c081-49d6-961d-70631c5096c8",
   "metadata": {},
   "outputs": [],
   "source": [
    "def get_x(row):\n",
    "    return row.path + '.wav'\n",
    "def get_y(row):\n",
    "    return row.gender"
   ]
  },
  {
   "cell_type": "code",
   "execution_count": 96,
   "id": "8a9a38a0-2133-4411-bb76-bb82c86a796e",
   "metadata": {},
   "outputs": [],
   "source": [
    "audio_dblock = DataBlock(blocks=[AudioBlock, CategoryBlock],\n",
    "                         item_tfms = item_tfms,\n",
    "                         get_x = get_x, get_y = get_y\n",
    ")"
   ]
  },
  {
   "cell_type": "code",
   "execution_count": 97,
   "id": "b405192a-35b5-4df7-ae41-65b762012b04",
   "metadata": {
    "tags": []
   },
   "outputs": [],
   "source": [
    "dls = audio_dblock.dataloaders(labels)"
   ]
  },
  {
   "cell_type": "code",
   "execution_count": 18,
   "id": "2ddf3702-4f2b-4010-bd6e-f72fd0a9bf1b",
   "metadata": {},
   "outputs": [],
   "source": [
    "model =  xresnet18(True, n_out=2)"
   ]
  },
  {
   "cell_type": "code",
   "execution_count": 19,
   "id": "bf72883b-eb76-4562-ba1d-0e1cd4ee1b46",
   "metadata": {},
   "outputs": [],
   "source": [
    "model[0][0].weight[:, [0]].shape"
   ]
  },
  {
   "cell_type": "code",
   "execution_count": 20,
   "id": "5c3e0213-f254-4c01-af45-e64d0ba13cf5",
   "metadata": {},
   "outputs": [],
   "source": [
    "layer = model[0][0]\n",
    "layer.in_channels = 1\n",
    "layer.weight = nn.Parameter(layer.weight[:, [1]])\n",
    "model[0][0] = layer"
   ]
  },
  {
   "cell_type": "code",
   "execution_count": 21,
   "id": "520f0265-e936-4466-91a0-a6375bde01c6",
   "metadata": {},
   "outputs": [],
   "source": [
    "learn = Learner(dls, model, metrics=[accuracy])"
   ]
  },
  {
   "cell_type": "code",
   "execution_count": 22,
   "id": "06daad22-fc27-4df6-854d-773f8eff0281",
   "metadata": {},
   "outputs": [],
   "source": [
    "learn.loss_func"
   ]
  },
  {
   "cell_type": "code",
   "execution_count": 23,
   "id": "280f14d5-df25-47ae-ad64-63515446496d",
   "metadata": {
    "collapsed": true,
    "jupyter": {
     "outputs_hidden": true
    },
    "tags": []
   },
   "outputs": [],
   "source": [
    "learn.lr_find()"
   ]
  },
  {
   "cell_type": "code",
   "execution_count": 24,
   "id": "9c80ad6c-02fd-4ee9-af04-243b787ff1be",
   "metadata": {},
   "outputs": [],
   "source": [
    "learn.fit_one_cycle(5, 1e-2)"
   ]
  },
  {
   "cell_type": "code",
   "execution_count": 25,
   "id": "9582ce18-836d-4050-a113-191958b95e7b",
   "metadata": {},
   "outputs": [],
   "source": [
    "import zipfile\n",
    "zipfile.ZipFile('test.zip').extractall()"
   ]
  },
  {
   "cell_type": "code",
   "execution_count": 29,
   "id": "45d20d13-e9ea-4ac6-9524-e884cf74a98a",
   "metadata": {},
   "outputs": [],
   "source": [
    "!cd test && ls | sed -e 's/\\.wav$//' > ../targets.tsv"
   ]
  },
  {
   "cell_type": "code",
   "execution_count": 85,
   "id": "d4885f80-cc18-4558-bc51-3b58bea0de5d",
   "metadata": {},
   "outputs": [
    {
     "data": {
      "text/plain": [
       "(#3413) [0,1,2,3,4,5,6,7,8,9...]"
      ]
     },
     "execution_count": 85,
     "metadata": {},
     "output_type": "execute_result"
    }
   ],
   "source": [
    "L(test_df.index.values.tolist())"
   ]
  },
  {
   "cell_type": "code",
   "execution_count": 86,
   "id": "0cd98e61-06ca-4511-84d6-bc7700b0f9ef",
   "metadata": {},
   "outputs": [],
   "source": [
    "test_audio_dblock = DataBlock(blocks=[AudioBlock],\n",
    "                         item_tfms = item_tfms,\n",
    "                         get_x = lambda x: f'test/{x.path}.wav',\n",
    "                        splitter=lambda y: (L(y.index.values.tolist()),))"
   ]
  },
  {
   "cell_type": "code",
   "execution_count": 100,
   "id": "f064c8b2-1705-4ee2-ad0e-e289faac8fa1",
   "metadata": {},
   "outputs": [],
   "source": [
    "test_df = pd.read_csv('targets.tsv', sep='\\t', names=['path'])\n",
    "test_df.path = 'test/'+test_df.path\n",
    "test_dl = dls.test_dl(test_df)"
   ]
  },
  {
   "cell_type": "code",
   "execution_count": 106,
   "id": "c06bba1f-9768-4a72-813f-ae9e116c8a3a",
   "metadata": {
    "collapsed": true,
    "jupyter": {
     "outputs_hidden": true
    },
    "tags": []
   },
   "outputs": [
    {
     "data": {
      "text/html": [
       "\n",
       "    <div>\n",
       "        <style>\n",
       "            /* Turns off some styling */\n",
       "            progress {\n",
       "                /* gets rid of default border in Firefox and Opera. */\n",
       "                border: none;\n",
       "                /* Needs to be in here for Safari polyfill so background images work as expected. */\n",
       "                background-size: auto;\n",
       "            }\n",
       "            .progress-bar-interrupted, .progress-bar-interrupted::-webkit-progress-bar {\n",
       "                background: #F44336;\n",
       "            }\n",
       "        </style>\n",
       "      <progress value='0' class='' max='5' style='width:300px; height:20px; vertical-align: middle;'></progress>\n",
       "      \n",
       "    </div>\n",
       "    \n"
      ],
      "text/plain": [
       "<IPython.core.display.HTML object>"
      ]
     },
     "metadata": {},
     "output_type": "display_data"
    },
    {
     "data": {
      "text/html": [],
      "text/plain": [
       "<IPython.core.display.HTML object>"
      ]
     },
     "metadata": {},
     "output_type": "display_data"
    },
    {
     "name": "stderr",
     "output_type": "stream",
     "text": [
      "Exception ignored in: <function _MultiProcessingDataLoaderIter.__del__ at 0x7f6b8c7098b0>\n",
      "Exception ignored in: Traceback (most recent call last):\n",
      "<function _MultiProcessingDataLoaderIter.__del__ at 0x7f6b8c7098b0>\n",
      "  File \"/home/studio-lab-user/.conda/envs/default/lib/python3.9/site-packages/torch/utils/data/dataloader.py\", line 1324, in __del__\n",
      "    Traceback (most recent call last):\n",
      "self._shutdown_workers()  File \"/home/studio-lab-user/.conda/envs/default/lib/python3.9/site-packages/torch/utils/data/dataloader.py\", line 1324, in __del__\n",
      "\n",
      "    self._shutdown_workers()\n",
      "  File \"/home/studio-lab-user/.conda/envs/default/lib/python3.9/site-packages/torch/utils/data/dataloader.py\", line 1316, in _shutdown_workers\n",
      "    if w.is_alive():\n",
      "  File \"/home/studio-lab-user/.conda/envs/default/lib/python3.9/multiprocessing/process.py\", line 160, in is_alive\n",
      "  File \"/home/studio-lab-user/.conda/envs/default/lib/python3.9/site-packages/torch/utils/data/dataloader.py\", line 1316, in _shutdown_workers\n",
      "        if w.is_alive():assert self._parent_pid == os.getpid(), 'can only test a child process'\n",
      "\n",
      "  File \"/home/studio-lab-user/.conda/envs/default/lib/python3.9/multiprocessing/process.py\", line 160, in is_alive\n",
      "AssertionError    : assert self._parent_pid == os.getpid(), 'can only test a child process'can only test a child process\n",
      "\n",
      "AssertionError: can only test a child process\n",
      "Exception ignored in: <function _MultiProcessingDataLoaderIter.__del__ at 0x7f6b8c7098b0>\n",
      "Traceback (most recent call last):\n",
      "  File \"/home/studio-lab-user/.conda/envs/default/lib/python3.9/site-packages/torch/utils/data/dataloader.py\", line 1324, in __del__\n",
      "    self._shutdown_workers()\n",
      "  File \"/home/studio-lab-user/.conda/envs/default/lib/python3.9/site-packages/torch/utils/data/dataloader.py\", line 1316, in _shutdown_workers\n",
      "    if w.is_alive():\n",
      "  File \"/home/studio-lab-user/.conda/envs/default/lib/python3.9/multiprocessing/process.py\", line 160, in is_alive\n",
      "    assert self._parent_pid == os.getpid(), 'can only test a child process'\n",
      "AssertionError: can only test a child process\n",
      "Exception ignored in: <function _MultiProcessingDataLoaderIter.__del__ at 0x7f6b8c7098b0>\n",
      "Traceback (most recent call last):\n",
      "  File \"/home/studio-lab-user/.conda/envs/default/lib/python3.9/site-packages/torch/utils/data/dataloader.py\", line 1324, in __del__\n",
      "    self._shutdown_workers()\n",
      "  File \"/home/studio-lab-user/.conda/envs/default/lib/python3.9/site-packages/torch/utils/data/dataloader.py\", line 1316, in _shutdown_workers\n",
      "    if w.is_alive():\n",
      "  File \"/home/studio-lab-user/.conda/envs/default/lib/python3.9/multiprocessing/process.py\", line 160, in is_alive\n",
      "    assert self._parent_pid == os.getpid(), 'can only test a child process'\n",
      "AssertionError: can only test a child process\n"
     ]
    }
   ],
   "source": [
    "preds = learn.tta(dl = test_dl)"
   ]
  },
  {
   "cell_type": "code",
   "execution_count": 105,
   "id": "2517b682-6d7e-46c6-89c6-d739b5d66eb1",
   "metadata": {},
   "outputs": [
    {
     "data": {
      "text/plain": [
       "(tensor([[8.9336e-06, 9.9999e-01],\n",
       "         [7.7786e-07, 1.0000e+00],\n",
       "         [4.6656e-06, 1.0000e+00],\n",
       "         ...,\n",
       "         [9.7058e-01, 2.9418e-02],\n",
       "         [9.9975e-01, 2.5037e-04],\n",
       "         [9.9352e-01, 6.4787e-03]]),\n",
       " None,\n",
       " tensor([1, 1, 1,  ..., 0, 0, 0]))"
      ]
     },
     "execution_count": 105,
     "metadata": {},
     "output_type": "execute_result"
    }
   ],
   "source": [
    "preds"
   ]
  },
  {
   "cell_type": "code",
   "execution_count": 138,
   "id": "f0014a8f-dd84-4f37-8ca1-e2f7aa3f4069",
   "metadata": {},
   "outputs": [
    {
     "data": {
      "text/plain": [
       "1"
      ]
     },
     "execution_count": 138,
     "metadata": {},
     "output_type": "execute_result"
    }
   ],
   "source": [
    "preds[0][0].argmax().item()"
   ]
  },
  {
   "cell_type": "code",
   "execution_count": 141,
   "id": "02165306-b468-4505-96c2-85953cd75bf7",
   "metadata": {},
   "outputs": [],
   "source": [
    "pred_id = [i.argmax().item() for i in preds[0]]"
   ]
  },
  {
   "cell_type": "code",
   "execution_count": 159,
   "id": "d894ad90-3504-4256-813c-ed1a95749b69",
   "metadata": {},
   "outputs": [],
   "source": [
    "save = pd.read_csv('targets.tsv', sep='\\t', names=[])"
   ]
  },
  {
   "cell_type": "code",
   "execution_count": 158,
   "id": "f307e7b5-0564-4488-8d53-c5581e117cc2",
   "metadata": {},
   "outputs": [
    {
     "data": {
      "text/html": [
       "<div>\n",
       "<style scoped>\n",
       "    .dataframe tbody tr th:only-of-type {\n",
       "        vertical-align: middle;\n",
       "    }\n",
       "\n",
       "    .dataframe tbody tr th {\n",
       "        vertical-align: top;\n",
       "    }\n",
       "\n",
       "    .dataframe thead th {\n",
       "        text-align: right;\n",
       "    }\n",
       "</style>\n",
       "<table border=\"1\" class=\"dataframe\">\n",
       "  <thead>\n",
       "    <tr style=\"text-align: right;\">\n",
       "      <th></th>\n",
       "    </tr>\n",
       "  </thead>\n",
       "  <tbody>\n",
       "  </tbody>\n",
       "</table>\n",
       "</div>"
      ],
      "text/plain": [
       "Empty DataFrame\n",
       "Columns: []\n",
       "Index: []"
      ]
     },
     "execution_count": 158,
     "metadata": {},
     "output_type": "execute_result"
    }
   ],
   "source": [
    "save"
   ]
  },
  {
   "cell_type": "code",
   "execution_count": 162,
   "id": "fde2868f-3b17-4e1c-a2b4-373ce0810538",
   "metadata": {},
   "outputs": [],
   "source": [
    "save.loc[:, 1] = pred_id"
   ]
  },
  {
   "cell_type": "code",
   "execution_count": 163,
   "id": "4a58e61b-6b01-476b-ad7c-84aa927be717",
   "metadata": {},
   "outputs": [
    {
     "data": {
      "text/plain": [
       "(3413, 3413)"
      ]
     },
     "execution_count": 163,
     "metadata": {},
     "output_type": "execute_result"
    }
   ],
   "source": [
    "len(pred_id), len(save)"
   ]
  },
  {
   "cell_type": "code",
   "execution_count": 164,
   "id": "0120d61d-a0a1-4a4e-9555-255dfcc3c69f",
   "metadata": {},
   "outputs": [],
   "source": [
    "save.to_csv('preds.tsv', sep='\\t', header=False)"
   ]
  },
  {
   "cell_type": "code",
   "execution_count": 161,
   "id": "9f7f41c0-c61c-4476-b457-ce9edadbce49",
   "metadata": {},
   "outputs": [
    {
     "data": {
      "text/html": [
       "<div>\n",
       "<style scoped>\n",
       "    .dataframe tbody tr th:only-of-type {\n",
       "        vertical-align: middle;\n",
       "    }\n",
       "\n",
       "    .dataframe tbody tr th {\n",
       "        vertical-align: top;\n",
       "    }\n",
       "\n",
       "    .dataframe thead th {\n",
       "        text-align: right;\n",
       "    }\n",
       "</style>\n",
       "<table border=\"1\" class=\"dataframe\">\n",
       "  <thead>\n",
       "    <tr style=\"text-align: right;\">\n",
       "      <th></th>\n",
       "    </tr>\n",
       "  </thead>\n",
       "  <tbody>\n",
       "    <tr>\n",
       "      <th>00100026dbdffcd01cde6ee9b9a9d273</th>\n",
       "    </tr>\n",
       "    <tr>\n",
       "      <th>0014278276a6cc05fe8c522af0a677df</th>\n",
       "    </tr>\n",
       "    <tr>\n",
       "      <th>0026e20266ceba9cdda2c116e89d2f3b</th>\n",
       "    </tr>\n",
       "    <tr>\n",
       "      <th>008b37fc832d3dfad9105961c5801c02</th>\n",
       "    </tr>\n",
       "    <tr>\n",
       "      <th>00b1d7d0d6fdb25050041f6e2ae2871e</th>\n",
       "    </tr>\n",
       "    <tr>\n",
       "      <th>...</th>\n",
       "    </tr>\n",
       "    <tr>\n",
       "      <th>ffbea6a332d113f0bd16cf0b4ed07dc6</th>\n",
       "    </tr>\n",
       "    <tr>\n",
       "      <th>ffee25334e0247dd07d80d0eb3ce7886</th>\n",
       "    </tr>\n",
       "    <tr>\n",
       "      <th>fff86627949b37d236237ff895ff4268</th>\n",
       "    </tr>\n",
       "    <tr>\n",
       "      <th>fff8aa9bac38e85734f64aad2b2f3814</th>\n",
       "    </tr>\n",
       "    <tr>\n",
       "      <th>fff9ce1e4dc051383dc49e2f24547b56</th>\n",
       "    </tr>\n",
       "  </tbody>\n",
       "</table>\n",
       "<p>3413 rows × 0 columns</p>\n",
       "</div>"
      ],
      "text/plain": [
       "Empty DataFrame\n",
       "Columns: []\n",
       "Index: [00100026dbdffcd01cde6ee9b9a9d273, 0014278276a6cc05fe8c522af0a677df, 0026e20266ceba9cdda2c116e89d2f3b, 008b37fc832d3dfad9105961c5801c02, 00b1d7d0d6fdb25050041f6e2ae2871e, 00b23e5cbc6f652b55d0754ed5ce300f, 00d314de185e2e2425590e18e88c969f, 00d9d606720bf95d08546c4bcb19ba71, 00f3de3001b7f177384897278f905f83, 0113ca85c57aeafd828acc1e765c058b, 011ffa717faf73648cd2bc746d2ef9d7, 012d337e20f5427f550163b486f7ca00, 0148a8055c5987082bf1fd1d816943ac, 0166018d693bb79c1e6203d4a048b003, 016d86a309e33615738e0af7abdc7dc8, 017e03b789bef812d30b2e5783bbfdf2, 018205a4a74a654927ff80ca4ba892d7, 0197e87b1967402d4f331e656d5aa04d, 01a14dbda7060f8b654f4a81566ecb0e, 01a488d98948d02d376ea8848f92036f, 01a4e8ff8bd45861e6da907f97b6f024, 01bde3f1091f5982c0c15da9cab2ccf7, 01d68545cdd3ecfe9fc4d23f507245a5, 01edf1b74fb4c52ed07e2eb6f0f9ddcc, 02047926236d84ebc92c66d66cf29a89, 0231bdb6494f15b1eb7359e33da3ac7b, 02414b7de4171ac996fc57f9b87e97c4, 026e86cf42e441fb527f8a0d71a83838, 027afb849889ea82d0a3f88a905a1d3e, 028a0fa99cc5a60078f03bbfac3cb13e, 0295bafd40ee99d3b7d6fbff6eb3ed81, 02b7699a1595a0c0fcc560fd722ea8b4, 02c67e96a2d2ae7e22becb1597bd7d8d, 02d4c26fccded3e6b544d6d53bc38394, 02ebac1da82b4a34a622c77c59c153d5, 030c747115eeaf74bea7ce99f2e240be, 034d9407800453846c6d0e791518488c, 034f9dc288f38c4d1b8b843395eb860a, 0383e4429661718dab54d2c0aeed30d9, 038b1d428a5655355812ee4a817d9fa4, 03ab7b58b89040b939dbc544a7947712, 03aefe2b8aa59138c2239b1d2e9f511f, 03c0f3f3925023e46ee898cc5adfd705, 03c6554b80d877a1700a6d4457d26fe0, 03e8f530da7db248fc3642667521b55c, 03ea5c76affb7377b9005cfa437b0352, 03f2df7558001948e2c38ab3b0a94ce6, 03fcd04cfe2c2c58f89a4adc362edec0, 042f348e47ea1e0c67e8b24d111c73bf, 04324b9fca4c857222263467e9589e9a, 0445c2e4253192c1fc3862149bbf66c4, 04493394a89596f090cfdebe12a5692c, 044ebe715367a1837eca39066db53623, 046b03e16cc6234e0340142654a511f9, 047790182d99d722360729a86e400b38, 04998ab7fc4981b46776995665a83831, 04a19a2a79b77dad4bbddec9fd52199a, 04b3a9b2539c7df57683948cab7e328b, 04c6d75dd64ddea6eaa38ebff04fe101, 04d5e3332ee129ad255676191a2bbb50, 04d878cb95009b22f1dc36d3676a10a8, 04ecdcc29488a8e94215395d2c0aa471, 0505cf7320bcbe76f9f2ff68e0a43036, 05164d8e75dca3ad816741c8b01053fd, 05865b17a06e4b2fc863d4d9644d24bf, 05c50cf99bc1c7017799a25ca34dce33, 05d336a9ec10e58c5ac0bddb07ef97cc, 05e2ba9cd934af1a93c4c4f49d98469a, 060405ceac6de82c0afe99abed3f16a1, 065d0ce752239e159db90f1198b8ec09, 066ca5a2c527d27445ddc001eefa1c9e, 068b40f6bfeb14967d315b53665a4644, 06a414c83ae461f843286afa5fc9f734, 06ba746b4a2b7b129bfe28833e61e1c4, 06c120dc5e31d261687914810857e727, 06d5a079c128fbba9d6c7809c89ff111, 06ed5ff2a5b6f8575f15a86031b25663, 06fd6dfceeced16f64bea9b13b46ebca, 070593703658f5da1d3ce0a8939decc1, 0714ded74b14e2fd39ac5aee7c8b2ba0, 07267f6581985bb897e89e47b6a9a6bd, 072ac6c03ec98949673205855f611093, 0731c7a1c816897fa29698dca3593f58, 076413794c81035b4edc744fa241b33f, 076b222c52cd0fff66e4db721cfd118c, 07730f67e6887ea7e191389293baf03b, 077bcbfda433a1df30b0dff09eeccef2, 07827ca2299bd1e7533d0ad9629c3f84, 0783211b0118365115d03d7ff6fb601a, 0790a7f58497217f6fa465bd8ef2af99, 07b9e0c4e97c9a8fb94654b656ded820, 07f8dee2465fc183e84813c5c89930e0, 07f9d2a82bf88cdbf64f35f065e018ab, 07fcba46918b55228aa83c8a0b1376b6, 081363c0b051ce21ae6518da6c9d1277, 08183aa4fa01fd05206f237bae5d784f, 0863b13fd95f60f8b37dc5f6e4d909e8, 08b44c6249ac2cae493833651b50bbd7, 08b76fc7053077f65cbb811646b62f76, 08eb63535f58efc0c53cc15ede79e233, ...]\n",
       "\n",
       "[3413 rows x 0 columns]"
      ]
     },
     "execution_count": 161,
     "metadata": {},
     "output_type": "execute_result"
    }
   ],
   "source": [
    "save"
   ]
  },
  {
   "cell_type": "code",
   "execution_count": null,
   "id": "bec90e86-7cec-4f22-a9d5-2019f8a16861",
   "metadata": {},
   "outputs": [],
   "source": []
  }
 ],
 "metadata": {
  "kernelspec": {
   "display_name": "default:Python",
   "language": "python",
   "name": "conda-env-default-py"
  },
  "language_info": {
   "codemirror_mode": {
    "name": "ipython",
    "version": 3
   },
   "file_extension": ".py",
   "mimetype": "text/x-python",
   "name": "python",
   "nbconvert_exporter": "python",
   "pygments_lexer": "ipython3",
   "version": "3.9.7"
  }
 },
 "nbformat": 4,
 "nbformat_minor": 5
}
